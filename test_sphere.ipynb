{
 "cells": [
  {
   "cell_type": "code",
   "execution_count": 76,
   "id": "cc392432",
   "metadata": {},
   "outputs": [],
   "source": [
    "%matplotlib inline\n",
    "import matplotlib.pyplot as plt"
   ]
  },
  {
   "cell_type": "code",
   "execution_count": 85,
   "id": "4733eff4",
   "metadata": {},
   "outputs": [],
   "source": [
    "def get_range(radius, resolution):\n",
    "    re = [0]\n",
    "    num = int(radius / resolution)\n",
    "    # print(\"num => %s\" %str(num))\n",
    "    for i in range(num):\n",
    "        re.append((i+1) * resolution)\n",
    "        # re.append(-(i+1) * resolution)\n",
    "    return re\n",
    "\n",
    "def sum_sqaure(a, b, c):\n",
    "    re = (a * a) + (b * b) + (c * c)\n",
    "    return re\n",
    "\n",
    "def loop_sphere(radius, resolution):\n",
    "    re = []\n",
    "\n",
    "    if radius <= 0:\n",
    "        return re\n",
    "\n",
    "    if resolution > radius:\n",
    "        resolution = radius\n",
    "\n",
    "    set_range = get_range(radius, resolution)\n",
    "    # print(\"set_range => %s\" %str(set_range))\n",
    "\n",
    "    limit_sq_max = (radius + resolution)\n",
    "    limit_sq_min = (radius - resolution)\n",
    "\n",
    "    len_range = len(set_range)\n",
    "\n",
    "    # tot_points = list()\n",
    "    tot_points = set()\n",
    "    for (i_z, z) in enumerate(set_range):\n",
    "        # i_x = len_range - i_z - 1\n",
    "        i_x = len_range - 1\n",
    "        while i_x >= i_z:\n",
    "            i_y = len_range - i_x - 1\n",
    "            i_y = 0\n",
    "            while i_x >= i_y:\n",
    "                s = sum_sqaure(set_range[i_x], set_range[i_y], set_range[i_z])\n",
    "                # print(s)\n",
    "                if s >= limit_sq_min and s <= limit_sq_max:\n",
    "                    for s_x in [-1, 1]:\n",
    "                        for s_y in [-1, 1]:\n",
    "                            for s_z in [-1, 1]:\n",
    "                                p1 = (s_x * set_range[i_x], s_y * set_range[i_y], s_z * set_range[i_z])\n",
    "                                p2 = (s_x * set_range[i_y], s_y * set_range[i_x], s_z * set_range[i_z])\n",
    "                                p3 = (s_x * set_range[i_z], s_y * set_range[i_y], s_z * set_range[i_x])\n",
    "                                p4 = (s_x * set_range[i_z], s_y * set_range[i_x], s_z * set_range[i_y])\n",
    "                                for p in [p1, p2, p3, p4]:\n",
    "                                    tot_points.add(p)\n",
    "                i_y += 1\n",
    "            i_x -= 1\n",
    "    print(len(tot_points))     \n",
    "    # print(tot_points)        \n",
    "    l_x = []\n",
    "    l_y = []\n",
    "    l_z = []\n",
    "    for l in tot_points:\n",
    "        l_x.append(l[0])\n",
    "        l_y.append(l[1])\n",
    "        l_z.append(l[2])\n",
    "    # print(l_x)\n",
    "    return (l_x, l_y, l_z)"
   ]
  },
  {
   "cell_type": "code",
   "execution_count": 86,
   "id": "7b79d718",
   "metadata": {},
   "outputs": [
    {
     "name": "stdout",
     "output_type": "stream",
     "text": [
      "125818\n"
     ]
    },
    {
     "data": {
      "text/plain": [
       "Text(0.5, 0, 'Z')"
      ]
     },
     "execution_count": 86,
     "metadata": {},
     "output_type": "execute_result"
    },
    {
     "data": {
      "image/png": "[encoded data removed]",
      "text/plain": [
       "<Figure size 432x288 with 1 Axes>"
      ]
     },
     "metadata": {
      "needs_background": "light"
     },
     "output_type": "display_data"
    }
   ],
   "source": [
    "fig = plt.figure()\n",
    "ax = fig.add_subplot(projection='3d')\n",
    "\n",
    "xs,ys,zs = loop_sphere(1, 0.01)\n",
    "# print(xs)\n",
    "ax.scatter(xs, ys, zs, marker='o')\n",
    "\n",
    "ax.set_xlabel('X')\n",
    "ax.set_ylabel('Y')\n",
    "ax.set_zlabel('Z')\n",
    "\n",
    "# plt.show()"
   ]
  },
  {
   "cell_type": "code",
   "execution_count": null,
   "id": "87bf7147",
   "metadata": {},
   "outputs": [],
   "source": []
  }
 ],
 "metadata": {
  "kernelspec": {
   "display_name": "Python 3 (ipykernel)",
   "language": "python",
   "name": "python3"
  },
  "language_info": {
   "codemirror_mode": {
    "name": "ipython",
    "version": 3
   },
   "file_extension": ".py",
   "mimetype": "text/x-python",
   "name": "python",
   "nbconvert_exporter": "python",
   "pygments_lexer": "ipython3",
   "version": "3.8.5"
  }
 },
 "nbformat": 4,
 "nbformat_minor": 5
}
